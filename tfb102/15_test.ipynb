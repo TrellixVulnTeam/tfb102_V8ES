{
 "cells": [
  {
   "cell_type": "code",
   "execution_count": 2,
   "id": "4a6bd358",
   "metadata": {},
   "outputs": [
    {
     "name": "stdout",
     "output_type": "stream",
     "text": [
      "{\n",
      "  \"Status\": \"OK\", \n",
      "  \"Success\": true, \n",
      "  \"td\": 0.5385875701904297\n",
      "}\n",
      "\n"
     ]
    }
   ],
   "source": [
    "import requests\n",
    "from bs4 import BeautifulSoup\n",
    "\n",
    "url = 'http://ec2-13-113-4-216.ap-northeast-1.compute.amazonaws.com/practice/tfb102-99'\n",
    "\n",
    "headers = {'user-agent': '123'}\n",
    "\n",
    "ss = requests.session()\n",
    "\n",
    "res = ss.get(url, headers=headers)\n",
    "# print(res.text)\n",
    "soup = BeautifulSoup(res.text, 'html.parser')\n",
    "key = soup.select('input')[1]['name']\n",
    "value = soup.select('input')[1]['value']\n",
    "# print(key, value)\n",
    "\n",
    "data = {key: value, 'pwd': 'uuboy'}\n",
    "res = ss.post(url, data=data, headers=headers)\n",
    "print(res.text)"
   ]
  },
  {
   "cell_type": "code",
   "execution_count": null,
   "id": "5f01d7c3",
   "metadata": {},
   "outputs": [],
   "source": []
  }
 ],
 "metadata": {
  "kernelspec": {
   "display_name": "Python 3",
   "language": "python",
   "name": "python3"
  },
  "language_info": {
   "codemirror_mode": {
    "name": "ipython",
    "version": 3
   },
   "file_extension": ".py",
   "mimetype": "text/x-python",
   "name": "python",
   "nbconvert_exporter": "python",
   "pygments_lexer": "ipython3",
   "version": "3.7.0"
  }
 },
 "nbformat": 4,
 "nbformat_minor": 5
}
