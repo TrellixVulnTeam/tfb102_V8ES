{
 "cells": [
  {
   "cell_type": "code",
   "execution_count": 7,
   "id": "e35f42a0",
   "metadata": {},
   "outputs": [
    {
     "data": {
      "text/plain": [
       "['推', '噓', '分數', '作者', '標題', '時間']"
      ]
     },
     "execution_count": 7,
     "metadata": {},
     "output_type": "execute_result"
    }
   ],
   "source": [
    "import pandas as pd\n",
    "import glob\n",
    "\n",
    "data = list()\n",
    "for filePath in glob.glob('./res_gossiping/*.txt'):\n",
    "#     print(filePath)\n",
    "    with open(filePath, 'r', encoding='utf-8') as f:\n",
    "        tmpList = f.read().split('---split---')[1].split('\\n')[1:-1]\n",
    "        data.append(tmpList)\n",
    "columns = [r.split(': ')[0] for r in data[0]]\n",
    "\n",
    "df = pd.DataFrame(data=data, columns)"
   ]
  },
  {
   "cell_type": "code",
   "execution_count": null,
   "id": "e7fc4335",
   "metadata": {},
   "outputs": [],
   "source": []
  }
 ],
 "metadata": {
  "kernelspec": {
   "display_name": "Python 3",
   "language": "python",
   "name": "python3"
  },
  "language_info": {
   "codemirror_mode": {
    "name": "ipython",
    "version": 3
   },
   "file_extension": ".py",
   "mimetype": "text/x-python",
   "name": "python",
   "nbconvert_exporter": "python",
   "pygments_lexer": "ipython3",
   "version": "3.7.0"
  }
 },
 "nbformat": 4,
 "nbformat_minor": 5
}
