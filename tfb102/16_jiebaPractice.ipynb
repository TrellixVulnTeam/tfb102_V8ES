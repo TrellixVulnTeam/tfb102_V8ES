{
 "cells": [
  {
   "cell_type": "code",
   "execution_count": 1,
   "id": "b6863c92",
   "metadata": {},
   "outputs": [
    {
     "name": "stdout",
     "output_type": "stream",
     "text": [
      "Collecting jieba\n",
      "  Using cached https://files.pythonhosted.org/packages/c6/cb/18eeb235f833b726522d7ebed54f2278ce28ba9438e3135ab0278d9792a2/jieba-0.42.1.tar.gz\n",
      "Installing collected packages: jieba\n",
      "  Running setup.py install for jieba ... \u001b[?25ldone\n",
      "\u001b[?25hSuccessfully installed jieba-0.42.1\n"
     ]
    }
   ],
   "source": [
    "!pip install jieba"
   ]
  },
  {
   "cell_type": "code",
   "execution_count": 2,
   "id": "b57238a2",
   "metadata": {},
   "outputs": [],
   "source": [
    "import jieba"
   ]
  },
  {
   "cell_type": "code",
   "execution_count": 3,
   "id": "54216488",
   "metadata": {},
   "outputs": [
    {
     "name": "stderr",
     "output_type": "stream",
     "text": [
      "Building prefix dict from the default dictionary ...\n",
      "Dumping model to file cache /var/folders/bv/8bbkzq895db366kq27vw262r0000gn/T/jieba.cache\n",
      "Loading model cost 1.251 seconds.\n",
      "Prefix dict has been built successfully.\n"
     ]
    },
    {
     "name": "stdout",
     "output_type": "stream",
     "text": [
      "大家 | 好 | ， | 我 | 叫 | 小 | 賀 | ， | 今天 | 來 | 緯 | 育 | 大 | 數 | 據 | 班上 | 課 | ， | 覺 | 得 | 非常 | 開 | 心 | 。\n",
      "大家 | 好 | ， | 我 | 叫 | 小賀 | ， | 今天 | 來緯育 | 大數據 | 班上 | 課 | ， | 覺得 | 非常 | 開心 | 。\n",
      "大家 | 好 | ， | 我 | 叫 | 小賀 | ， | 今天 | 來緯育 | 大數據 | 班上 | 課 | ， | 覺得 | 非常 | 開心 | 。\n",
      "大家 | 好 | ， | 我 | 叫 | 小賀 | ， | 今天 | 來緯育 | 大數據 | 班上 | 課 | ， | 覺得 | 非常 | 開心 | 。\n"
     ]
    }
   ],
   "source": [
    "s = '大家好，我叫小賀，今天來緯育大數據班上課，覺得非常開心。'\n",
    "\n",
    "s1List = jieba.cut(s, cut_all=True)\n",
    "s2List = jieba.cut(s, cut_all=False)\n",
    "s3List = jieba.cut(s)\n",
    "s4List = jieba.cut_for_search(s)\n",
    "\n",
    "print(' | '.join(s1List))\n",
    "print(' | '.join(s2List))\n",
    "print(' | '.join(s3List))\n",
    "print(' | '.join(s4List))"
   ]
  },
  {
   "cell_type": "code",
   "execution_count": 4,
   "id": "02c592a0",
   "metadata": {},
   "outputs": [
    {
     "name": "stdout",
     "output_type": "stream",
     "text": [
      "1.3.5.7\n"
     ]
    }
   ],
   "source": [
    "l = ['1', '3', '5', '7']\n",
    "print('.'.join(l))"
   ]
  },
  {
   "cell_type": "code",
   "execution_count": null,
   "id": "10a81b5a",
   "metadata": {},
   "outputs": [],
   "source": []
  }
 ],
 "metadata": {
  "kernelspec": {
   "display_name": "Python 3",
   "language": "python",
   "name": "python3"
  },
  "language_info": {
   "codemirror_mode": {
    "name": "ipython",
    "version": 3
   },
   "file_extension": ".py",
   "mimetype": "text/x-python",
   "name": "python",
   "nbconvert_exporter": "python",
   "pygments_lexer": "ipython3",
   "version": "3.7.0"
  }
 },
 "nbformat": 4,
 "nbformat_minor": 5
}
