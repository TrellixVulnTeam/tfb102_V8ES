{
 "cells": [
  {
   "cell_type": "code",
   "execution_count": 3,
   "id": "b47013b9",
   "metadata": {},
   "outputs": [
    {
     "data": {
      "text/plain": [
       "{'method': 'search',\n",
       " 'searchMethod': 'true',\n",
       " 'searchTarget': 'ATM',\n",
       " 'orgName': 'vcxzvc',\n",
       " 'orgId': 'vcxzvc',\n",
       " 'hid_1': '1',\n",
       " 'tenderName': 'vcxzvcxz',\n",
       " 'tenderId': 'fdsafdsa',\n",
       " 'tenderStatus': '5,6,20,28',\n",
       " 'tenderWay': '',\n",
       " 'awardAnnounceStartDate': '110/05/13',\n",
       " 'awardAnnounceEndDate': '110/05/13',\n",
       " 'proctrgCate': '',\n",
       " 'tenderRange': '',\n",
       " 'minBudget': '',\n",
       " 'maxBudget': '',\n",
       " 'item': 'fdsafds',\n",
       " 'hid_2': '1',\n",
       " 'gottenVendorName': 'fdsafd',\n",
       " 'gottenVendorId': '432rewfdszxc',\n",
       " 'hid_3': '1',\n",
       " 'submitVendorName': 'gfdshgfhgf',\n",
       " 'submitVendorId': '89iuyjhg',\n",
       " 'location': '',\n",
       " 'execLocationArea': '',\n",
       " 'priorityCate': '',\n",
       " 'isReConstruct': '',\n",
       " 'btnQuery': '查詢'}"
      ]
     },
     "execution_count": 3,
     "metadata": {},
     "output_type": "execute_result"
    }
   ],
   "source": [
    "import requests\n",
    "from bs4 import BeautifulSoup\n",
    "\n",
    "url = 'https://web.pcc.gov.tw/tps/pss/tender.do?searchMode=common&searchType=advance'\n",
    "\n",
    "userAgent = 'Mozilla/5.0 (Macintosh; Intel Mac OS X 10_15_7) AppleWebKit/537.36 (KHTML, like Gecko) Chrome/90.0.4430.93 Safari/537.36'\n",
    "headers = {\n",
    "    'User-Agent': userAgent\n",
    "}\n",
    "\n",
    "dataStr = \"\"\"method: search\n",
    "searchMethod: true\n",
    "searchTarget: ATM\n",
    "orgName: vcxzvc\n",
    "orgId: vcxzvc\n",
    "hid_1: 1\n",
    "tenderName: vcxzvcxz\n",
    "tenderId: fdsafdsa\n",
    "tenderStatus: 5,6,20,28\n",
    "tenderWay: \n",
    "awardAnnounceStartDate: 110/05/13\n",
    "awardAnnounceEndDate: 110/05/13\n",
    "proctrgCate: \n",
    "tenderRange: \n",
    "minBudget: \n",
    "maxBudget: \n",
    "item: fdsafds\n",
    "hid_2: 1\n",
    "gottenVendorName: fdsafd\n",
    "gottenVendorId: 432rewfdszxc\n",
    "hid_3: 1\n",
    "submitVendorName: gfdshgfhgf\n",
    "submitVendorId: 89iuyjhg\n",
    "location: \n",
    "execLocationArea: \n",
    "priorityCate: \n",
    "isReConstruct: \n",
    "btnQuery: 查詢\"\"\"\n",
    "\n",
    "# data = dict()\n",
    "# for row in dataStr.split('\\n'):\n",
    "# #     print(row)\n",
    "#     data[row.split(': ')[0]] = row.split(': ')[1]\n",
    "\n",
    "data = {row.split(': ')[0]: row.split(': ')[1] for row in dataStr.split('\\n')}\n",
    "    \n",
    "data"
   ]
  },
  {
   "cell_type": "code",
   "execution_count": null,
   "id": "30914108",
   "metadata": {},
   "outputs": [],
   "source": []
  }
 ],
 "metadata": {
  "kernelspec": {
   "display_name": "Python 3",
   "language": "python",
   "name": "python3"
  },
  "language_info": {
   "codemirror_mode": {
    "name": "ipython",
    "version": 3
   },
   "file_extension": ".py",
   "mimetype": "text/x-python",
   "name": "python",
   "nbconvert_exporter": "python",
   "pygments_lexer": "ipython3",
   "version": "3.7.0"
  }
 },
 "nbformat": 4,
 "nbformat_minor": 5
}
