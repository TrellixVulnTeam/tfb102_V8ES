{
 "cells": [
  {
   "cell_type": "code",
   "execution_count": 5,
   "id": "91c8c703",
   "metadata": {},
   "outputs": [
    {
     "data": {
      "text/plain": [
       "{'from': '/bbs/Gossiping/index.html', 'yes': 'yes'}"
      ]
     },
     "execution_count": 5,
     "metadata": {},
     "output_type": "execute_result"
    }
   ],
   "source": [
    "import requests\n",
    "from bs4 import BeautifulSoup\n",
    "\n",
    "urlFirst = 'https://www.ptt.cc/ask/over18?from=%2Fbbs%2FGossiping%2Findex.html'\n",
    "urlSecond = 'https://www.ptt.cc/ask/over18'\n",
    "url = 'https://www.ptt.cc/bbs/Gossiping/index.html'\n",
    "userAgent = 'Mozilla/5.0 (Macintosh; Intel Mac OS X 10_15_7) AppleWebKit/537.36 (KHTML, like Gecko) Chrome/90.0.4430.93 Safari/537.36'\n",
    "headers = {\n",
    "    'User-Agent': userAgent\n",
    "}\n",
    "\n",
    "ss = requests.session()\n",
    "\n",
    "resFirst = ss.get(urlFirst, headers=headers)\n",
    "soupFirst = BeautifulSoup(resFirst.text, 'html.parser')\n",
    "\n",
    "data = dict()\n",
    "data[soupFirst.select('input')[0]['name']] = soupFirst.select('input')[0]['value']\n",
    "data[soupFirst.select('button')[0]['name']] = soupFirst.select('button')[0]['value']\n",
    "data"
   ]
  },
  {
   "cell_type": "code",
   "execution_count": null,
   "id": "9dd1cea8",
   "metadata": {},
   "outputs": [],
   "source": []
  }
 ],
 "metadata": {
  "kernelspec": {
   "display_name": "Python 3",
   "language": "python",
   "name": "python3"
  },
  "language_info": {
   "codemirror_mode": {
    "name": "ipython",
    "version": 3
   },
   "file_extension": ".py",
   "mimetype": "text/x-python",
   "name": "python",
   "nbconvert_exporter": "python",
   "pygments_lexer": "ipython3",
   "version": "3.7.0"
  }
 },
 "nbformat": 4,
 "nbformat_minor": 5
}
