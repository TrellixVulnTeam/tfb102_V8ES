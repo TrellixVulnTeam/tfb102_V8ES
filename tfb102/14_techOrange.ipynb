{
 "cells": [
  {
   "cell_type": "code",
   "execution_count": 10,
   "id": "f52d159f",
   "metadata": {},
   "outputs": [
    {
     "name": "stdout",
     "output_type": "stream",
     "text": [
      "【5 秒 3 步驟】唐鳳親自教學！簡訊實聯 QRCode 上路，姓名、電話都免輸入快速通關\n",
      "https://buzzorange.com/techorange/2021/05/19/audrey-tang-qr-code/\n",
      "=========\n",
      "大腦會預測未來！讓受試者重複觀看 90 秒的影片，科學家發現前額葉的秘密\n",
      "https://buzzorange.com/techorange/2021/05/18/brain-future-cognitive-neuroscientist/\n",
      "=========\n",
      "在家工作一點也不寂寞，創建 Gather 虛擬辦公室和同事線上快樂群聚\n",
      "https://buzzorange.com/techorange/2021/05/18/gather/\n",
      "=========\n",
      "【全民耍廢救台灣】影音串流平台紛推體驗序號，免費爽追劇 30 天\n",
      "https://buzzorange.com/techorange/2021/05/18/kktv-myvideo-stayhome/\n",
      "=========\n",
      "口罩之亂的科技反思！台達 DIAStudio 助製造業者打造「智慧機台」，迎戰變幻莫測的市場\n",
      "https://buzzorange.com/techorange/2021/05/18/delta-electronics-diastudio/\n",
      "=========\n",
      "2021 年晶片趨勢：晶片短缺催生硬體整合，加速「軟體取代硬體」進程\n",
      "https://buzzorange.com/techorange/2021/05/18/chip-shortage-boost-hardware-innovation/\n",
      "=========\n",
      "【投稿】員工可以大方討論薪資！打破薪資保密制，鈦坦科技公開管理心法\n",
      "https://buzzorange.com/techorange/2021/05/18/titansoft-company-salary-transparency/\n",
      "=========\n",
      "【當上高管千萬別亂來】從比爾蓋茲外遇事件，解析領導人「私人感情」對公司的重要性\n",
      "https://buzzorange.com/techorange/2021/05/18/bill-gates-relationship-with-staffer/\n",
      "=========\n"
     ]
    }
   ],
   "source": [
    "import requests\n",
    "import json\n",
    "from bs4 import BeautifulSoup\n",
    "\n",
    "url = 'https://buzzorange.com/techorange/wp-admin/admin-ajax.php'\n",
    "userAgent = 'Mozilla/5.0 (Macintosh; Intel Mac OS X 10_15_7) AppleWebKit/537.36 (KHTML, like Gecko) Chrome/90.0.4430.93 Safari/537.36'\n",
    "headers = {\n",
    "    'User-Agent': userAgent\n",
    "}\n",
    "\n",
    "data = {\n",
    "    'action': 'fm_ajax_load_more',\n",
    "    'nonce': 'fdb8dbbcaf',\n",
    "    'page': 5\n",
    "}\n",
    "\n",
    "res = requests.post(url, headers=headers, data=data)\n",
    "# print(res.text)\n",
    "\n",
    "jsonData = json.loads(res.text)\n",
    "\n",
    "soup = BeautifulSoup(jsonData['data'], 'html.parser')\n",
    "for titleTag in soup.select('h4 a'):\n",
    "#     print(titlaTag)\n",
    "    title = titleTag.text\n",
    "    articleUrl = titleTag['href']\n",
    "    print(title)\n",
    "    print(articleUrl)\n",
    "    print('=========')"
   ]
  },
  {
   "cell_type": "code",
   "execution_count": 3,
   "id": "ce4d764d",
   "metadata": {},
   "outputs": [
    {
     "data": {
      "text/plain": [
       "{'success': True,\n",
       " 'data': '<article id=\"post-365365\" class=\"post-365365 type-post status-publish format-standard has-post-thumbnail hentry category-uncategorized tag-15071 tag--qr-code\">\\n\\t\\n\\t\\t<a class=\"post-thumbnail nljf\" href=\"https://buzzorange.com/techorange/2021/05/19/audrey-tang-qr-code/\" aria-hidden=\"true\" onclick=\"ga(\\'send\\', \\'event\\', \\'TO Home Posts\\', \\'Click\\', \\'【5 秒 3 步驟】唐鳳親自教學！簡訊實聯 QRCode 上路，姓名、電話都免輸入快速通關\\', {\\'nonInteraction\\': 1});\" data-src=\"https://buzzorange.com/techorange/wp-content/uploads/sites/2/2021/05/Eze5w_2VkAs71ja.webp?jpg\">&nbsp;</a>\\n\\n\\t\\t\\n\\t<header class=\"entry-header\">\\n\\t\\t\\n\\t\\t<span class=\"posted-on\"><span class=\"screen-reader-text\">Posted on </span><time class=\"entry-date published\" datetime=\"2021-05-19T10:30:51+08:00\">2021/05/19</time><time class=\"updated\" datetime=\"2021-05-20T12:48:21+08:00\">2021/05/20</time></span><h4 class=\"entry-title\"><a href=\"https://buzzorange.com/techorange/2021/05/19/audrey-tang-qr-code/\" onclick=\"ga(\\'send\\', \\'event\\', \\'TO Home Posts\\', \\'Click\\', \\'【5 秒 3 步驟】唐鳳親自教學！簡訊實聯 QRCode 上路，姓名、電話都免輸入快速通關\\', {\\'nonInteraction\\': 1});\" rel=\"bookmark\">【5 秒 3 步驟】唐鳳親自教學！簡訊實聯 QRCode 上路，姓名、電話都免輸入快速通關</a></h4>\\t</header><!-- .entry-header -->\\n\\n\\t\\n\\t<footer class=\"entry-footer\">\\n\\t\\t<span class=\"posted-on\"><span class=\"screen-reader-text\">Posted on </span><time class=\"entry-date published\" datetime=\"2021-05-19T10:30:51+08:00\">2021/05/19</time><time class=\"updated\" datetime=\"2021-05-20T12:48:21+08:00\">2021/05/20</time></span>\\t\\t<span class=\"shareCount\">1.0 K 分享</span>\\n\\t</footer><!-- .entry-footer -->\\n</article><!-- #post-## -->\\n<article id=\"post-365238\" class=\"post-365238 type-post status-publish format-standard has-post-thumbnail hentry category-uncategorized tag-brain tag-fmri tag-future\">\\n\\t\\n\\t\\t<a class=\"post-thumbnail nljf\" href=\"https://buzzorange.com/techorange/2021/05/18/brain-future-cognitive-neuroscientist/\" aria-hidden=\"true\" onclick=\"ga(\\'send\\', \\'event\\', \\'TO Home Posts\\', \\'Click\\', \\'大腦會預測未來！讓受試者重複觀看 90 秒的影片，科學家發現前額葉的秘密\\', {\\'nonInteraction\\': 1});\" data-src=\"https://buzzorange.com/techorange/wp-content/uploads/sites/2/2021/05/pexels-david-cassolato-818563.webp?jpg\">&nbsp;</a>\\n\\n\\t\\t\\n\\t<header class=\"entry-header\">\\n\\t\\t\\n\\t\\t<span class=\"posted-on\"><span class=\"screen-reader-text\">Posted on </span><time class=\"entry-date published updated\" datetime=\"2021-05-18T18:04:50+08:00\">2021/05/18</time></span><h4 class=\"entry-title\"><a href=\"https://buzzorange.com/techorange/2021/05/18/brain-future-cognitive-neuroscientist/\" onclick=\"ga(\\'send\\', \\'event\\', \\'TO Home Posts\\', \\'Click\\', \\'大腦會預測未來！讓受試者重複觀看 90 秒的影片，科學家發現前額葉的秘密\\', {\\'nonInteraction\\': 1});\" rel=\"bookmark\">大腦會預測未來！讓受試者重複觀看 90 秒的影片，科學家發現前額葉的秘密</a></h4>\\t</header><!-- .entry-header -->\\n\\n\\t\\n\\t<footer class=\"entry-footer\">\\n\\t\\t<span class=\"posted-on\"><span class=\"screen-reader-text\">Posted on </span><time class=\"entry-date published updated\" datetime=\"2021-05-18T18:04:50+08:00\">2021/05/18</time></span>\\t\\t<span class=\"shareCount\">112 分享</span>\\n\\t</footer><!-- .entry-footer -->\\n</article><!-- #post-## -->\\n<article id=\"post-365316\" class=\"post-365316 type-post status-publish format-standard has-post-thumbnail hentry category-uncategorized tag-gather tag-31697\">\\n\\t\\n\\t\\t<a class=\"post-thumbnail nljf\" href=\"https://buzzorange.com/techorange/2021/05/18/gather/\" aria-hidden=\"true\" onclick=\"ga(\\'send\\', \\'event\\', \\'TO Home Posts\\', \\'Click\\', \\'在家工作一點也不寂寞，創建 Gather 虛擬辦公室和同事線上快樂群聚\\', {\\'nonInteraction\\': 1});\" data-src=\"https://buzzorange.com/techorange/wp-content/uploads/sites/2/2021/05/擷取2.webp?png\">&nbsp;</a>\\n\\n\\t\\t\\n\\t<header class=\"entry-header\">\\n\\t\\t\\n\\t\\t<span class=\"posted-on\"><span class=\"screen-reader-text\">Posted on </span><time class=\"entry-date published\" datetime=\"2021-05-18T17:33:09+08:00\">2021/05/18</time><time class=\"updated\" datetime=\"2021-05-18T18:44:10+08:00\">2021/05/18</time></span><h4 class=\"entry-title\"><a href=\"https://buzzorange.com/techorange/2021/05/18/gather/\" onclick=\"ga(\\'send\\', \\'event\\', \\'TO Home Posts\\', \\'Click\\', \\'在家工作一點也不寂寞，創建 Gather 虛擬辦公室和同事線上快樂群聚\\', {\\'nonInteraction\\': 1});\" rel=\"bookmark\">在家工作一點也不寂寞，創建 Gather 虛擬辦公室和同事線上快樂群聚</a></h4>\\t</header><!-- .entry-header -->\\n\\n\\t\\n\\t<footer class=\"entry-footer\">\\n\\t\\t<span class=\"posted-on\"><span class=\"screen-reader-text\">Posted on </span><time class=\"entry-date published\" datetime=\"2021-05-18T17:33:09+08:00\">2021/05/18</time><time class=\"updated\" datetime=\"2021-05-18T18:44:10+08:00\">2021/05/18</time></span>\\t\\t<span class=\"shareCount\">538 分享</span>\\n\\t</footer><!-- .entry-footer -->\\n</article><!-- #post-## -->\\n<article id=\"post-365303\" class=\"post-365303 type-post status-publish format-standard has-post-thumbnail hentry category-uncategorized tag-kktv tag-netflix tag-35070\">\\n\\t\\n\\t\\t<a class=\"post-thumbnail nljf\" href=\"https://buzzorange.com/techorange/2021/05/18/kktv-myvideo-stayhome/\" aria-hidden=\"true\" onclick=\"ga(\\'send\\', \\'event\\', \\'TO Home Posts\\', \\'Click\\', \\'【全民耍廢救台灣】影音串流平台紛推體驗序號，免費爽追劇 30 天\\', {\\'nonInteraction\\': 1});\" data-src=\"https://buzzorange.com/techorange/wp-content/uploads/sites/2/2021/05/myvedio1.webp?jpg\">&nbsp;</a>\\n\\n\\t\\t\\n\\t<header class=\"entry-header\">\\n\\t\\t\\n\\t\\t<span class=\"posted-on\"><span class=\"screen-reader-text\">Posted on </span><time class=\"entry-date published\" datetime=\"2021-05-18T17:32:42+08:00\">2021/05/18</time><time class=\"updated\" datetime=\"2021-05-20T17:52:17+08:00\">2021/05/20</time></span><h4 class=\"entry-title\"><a href=\"https://buzzorange.com/techorange/2021/05/18/kktv-myvideo-stayhome/\" onclick=\"ga(\\'send\\', \\'event\\', \\'TO Home Posts\\', \\'Click\\', \\'【全民耍廢救台灣】影音串流平台紛推體驗序號，免費爽追劇 30 天\\', {\\'nonInteraction\\': 1});\" rel=\"bookmark\">【全民耍廢救台灣】影音串流平台紛推體驗序號，免費爽追劇 30 天</a></h4>\\t</header><!-- .entry-header -->\\n\\n\\t\\n\\t<footer class=\"entry-footer\">\\n\\t\\t<span class=\"posted-on\"><span class=\"screen-reader-text\">Posted on </span><time class=\"entry-date published\" datetime=\"2021-05-18T17:32:42+08:00\">2021/05/18</time><time class=\"updated\" datetime=\"2021-05-20T17:52:17+08:00\">2021/05/20</time></span>\\t\\t<span class=\"shareCount\">61 分享</span>\\n\\t</footer><!-- .entry-footer -->\\n</article><!-- #post-## -->\\n<article id=\"post-365330\" class=\"post-365330 type-post status-publish format-standard has-post-thumbnail status-sticky hentry category-uncategorized category-noarticleads tag-diastudio tag-29702 tag-29703 tag-17925\">\\n\\t\\n\\t\\t<a class=\"post-thumbnail nljf\" href=\"https://buzzorange.com/techorange/2021/05/18/delta-electronics-diastudio/\" aria-hidden=\"true\" onclick=\"ga(\\'send\\', \\'event\\', \\'TO Home Posts\\', \\'Click\\', \\'口罩之亂的科技反思！台達 DIAStudio 助製造業者打造「智慧機台」，迎戰變幻莫測的市場\\', {\\'nonInteraction\\': 1});\" data-src=\"https://buzzorange.com/techorange/wp-content/uploads/sites/2/2021/05/TechOrange-04_image-1-1.webp?jpg\">&nbsp;</a>\\n\\n\\t\\t\\n\\t<header class=\"entry-header\">\\n\\t\\t\\n\\t\\t<span class=\"posted-on\"><span class=\"screen-reader-text\">Posted on </span><time class=\"entry-date published\" datetime=\"2021-05-18T17:01:57+08:00\">2021/05/18</time><time class=\"updated\" datetime=\"2021-05-22T18:05:19+08:00\">2021/05/22</time></span><h4 class=\"entry-title\"><a href=\"https://buzzorange.com/techorange/2021/05/18/delta-electronics-diastudio/\" onclick=\"ga(\\'send\\', \\'event\\', \\'TO Home Posts\\', \\'Click\\', \\'口罩之亂的科技反思！台達 DIAStudio 助製造業者打造「智慧機台」，迎戰變幻莫測的市場\\', {\\'nonInteraction\\': 1});\" rel=\"bookmark\">口罩之亂的科技反思！台達 DIAStudio 助製造業者打造「智慧機台」，迎戰變幻莫測的市場</a></h4>\\t</header><!-- .entry-header -->\\n\\n\\t\\n\\t<footer class=\"entry-footer\">\\n\\t\\t<span class=\"posted-on\"><span class=\"screen-reader-text\">Posted on </span><time class=\"entry-date published\" datetime=\"2021-05-18T17:01:57+08:00\">2021/05/18</time><time class=\"updated\" datetime=\"2021-05-22T18:05:19+08:00\">2021/05/22</time></span>\\t\\t<span class=\"shareCount\">907 分享</span>\\n\\t</footer><!-- .entry-footer -->\\n</article><!-- #post-## -->\\n<article id=\"post-365326\" class=\"post-365326 type-post status-publish format-standard has-post-thumbnail hentry category-uncategorized tag-14070 tag-17204 tag-14938\">\\n\\t\\n\\t\\t<a class=\"post-thumbnail nljf\" href=\"https://buzzorange.com/techorange/2021/05/18/chip-shortage-boost-hardware-innovation/\" aria-hidden=\"true\" onclick=\"ga(\\'send\\', \\'event\\', \\'TO Home Posts\\', \\'Click\\', \\'2021 年晶片趨勢：晶片短缺催生硬體整合，加速「軟體取代硬體」進程\\', {\\'nonInteraction\\': 1});\" data-src=\"https://buzzorange.com/techorange/wp-content/uploads/sites/2/2021/05/chip-4564394_1280.webp?jpg\">&nbsp;</a>\\n\\n\\t\\t\\n\\t<header class=\"entry-header\">\\n\\t\\t\\n\\t\\t<span class=\"posted-on\"><span class=\"screen-reader-text\">Posted on </span><time class=\"entry-date published updated\" datetime=\"2021-05-18T16:59:16+08:00\">2021/05/18</time></span><h4 class=\"entry-title\"><a href=\"https://buzzorange.com/techorange/2021/05/18/chip-shortage-boost-hardware-innovation/\" onclick=\"ga(\\'send\\', \\'event\\', \\'TO Home Posts\\', \\'Click\\', \\'2021 年晶片趨勢：晶片短缺催生硬體整合，加速「軟體取代硬體」進程\\', {\\'nonInteraction\\': 1});\" rel=\"bookmark\">2021 年晶片趨勢：晶片短缺催生硬體整合，加速「軟體取代硬體」進程</a></h4>\\t</header><!-- .entry-header -->\\n\\n\\t\\n\\t<footer class=\"entry-footer\">\\n\\t\\t<span class=\"posted-on\"><span class=\"screen-reader-text\">Posted on </span><time class=\"entry-date published updated\" datetime=\"2021-05-18T16:59:16+08:00\">2021/05/18</time></span>\\t\\t<span class=\"shareCount\">124 分享</span>\\n\\t</footer><!-- .entry-footer -->\\n</article><!-- #post-## -->\\n<article id=\"post-365287\" class=\"post-365287 type-post status-publish format-standard has-post-thumbnail hentry category-uncategorized tag-40001 tag-40000 tag-38097\">\\n\\t\\n\\t\\t<a class=\"post-thumbnail nljf\" href=\"https://buzzorange.com/techorange/2021/05/18/titansoft-company-salary-transparency/\" aria-hidden=\"true\" onclick=\"ga(\\'send\\', \\'event\\', \\'TO Home Posts\\', \\'Click\\', \\'【投稿】員工可以大方討論薪資！打破薪資保密制，鈦坦科技公開管理心法\\', {\\'nonInteraction\\': 1});\" data-src=\"https://buzzorange.com/techorange/wp-content/uploads/sites/2/2021/05/shutterstock_1032637258-1-1-1.webp?jpg\">&nbsp;</a>\\n\\n\\t\\t\\n\\t<header class=\"entry-header\">\\n\\t\\t\\n\\t\\t<span class=\"posted-on\"><span class=\"screen-reader-text\">Posted on </span><time class=\"entry-date published updated\" datetime=\"2021-05-18T16:06:51+08:00\">2021/05/18</time></span><h4 class=\"entry-title\"><a href=\"https://buzzorange.com/techorange/2021/05/18/titansoft-company-salary-transparency/\" onclick=\"ga(\\'send\\', \\'event\\', \\'TO Home Posts\\', \\'Click\\', \\'【投稿】員工可以大方討論薪資！打破薪資保密制，鈦坦科技公開管理心法\\', {\\'nonInteraction\\': 1});\" rel=\"bookmark\">【投稿】員工可以大方討論薪資！打破薪資保密制，鈦坦科技公開管理心法</a></h4>\\t</header><!-- .entry-header -->\\n\\n\\t\\n\\t<footer class=\"entry-footer\">\\n\\t\\t<span class=\"posted-on\"><span class=\"screen-reader-text\">Posted on </span><time class=\"entry-date published updated\" datetime=\"2021-05-18T16:06:51+08:00\">2021/05/18</time></span>\\t\\t<span class=\"shareCount\">312 分享</span>\\n\\t</footer><!-- .entry-footer -->\\n</article><!-- #post-## -->\\n<article id=\"post-365240\" class=\"post-365240 type-post status-publish format-standard has-post-thumbnail hentry category-uncategorized tag-14511 tag-16739\">\\n\\t\\n\\t\\t<a class=\"post-thumbnail nljf\" href=\"https://buzzorange.com/techorange/2021/05/18/bill-gates-relationship-with-staffer/\" aria-hidden=\"true\" onclick=\"ga(\\'send\\', \\'event\\', \\'TO Home Posts\\', \\'Click\\', \\'【當上高管千萬別亂來】從比爾蓋茲外遇事件，解析領導人「私人感情」對公司的重要性\\', {\\'nonInteraction\\': 1});\" data-src=\"https://buzzorange.com/techorange/wp-content/uploads/sites/2/2021/05/5433526085_b099babf9a_c.webp?jpg\">&nbsp;</a>\\n\\n\\t\\t\\n\\t<header class=\"entry-header\">\\n\\t\\t\\n\\t\\t<span class=\"posted-on\"><span class=\"screen-reader-text\">Posted on </span><time class=\"entry-date published updated\" datetime=\"2021-05-18T15:40:38+08:00\">2021/05/18</time></span><h4 class=\"entry-title\"><a href=\"https://buzzorange.com/techorange/2021/05/18/bill-gates-relationship-with-staffer/\" onclick=\"ga(\\'send\\', \\'event\\', \\'TO Home Posts\\', \\'Click\\', \\'【當上高管千萬別亂來】從比爾蓋茲外遇事件，解析領導人「私人感情」對公司的重要性\\', {\\'nonInteraction\\': 1});\" rel=\"bookmark\">【當上高管千萬別亂來】從比爾蓋茲外遇事件，解析領導人「私人感情」對公司的重要性</a></h4>\\t</header><!-- .entry-header -->\\n\\n\\t\\n\\t<footer class=\"entry-footer\">\\n\\t\\t<span class=\"posted-on\"><span class=\"screen-reader-text\">Posted on </span><time class=\"entry-date published updated\" datetime=\"2021-05-18T15:40:38+08:00\">2021/05/18</time></span>\\t\\t<span class=\"shareCount\">16 分享</span>\\n\\t</footer><!-- .entry-footer -->\\n</article><!-- #post-## -->\\n'}"
      ]
     },
     "execution_count": 3,
     "metadata": {},
     "output_type": "execute_result"
    }
   ],
   "source": [
    "jsonData"
   ]
  },
  {
   "cell_type": "code",
   "execution_count": 4,
   "id": "8f986fbc",
   "metadata": {},
   "outputs": [
    {
     "data": {
      "text/plain": [
       "dict_keys(['success', 'data'])"
      ]
     },
     "execution_count": 4,
     "metadata": {},
     "output_type": "execute_result"
    }
   ],
   "source": [
    "jsonData.keys()"
   ]
  },
  {
   "cell_type": "code",
   "execution_count": 5,
   "id": "3e842028",
   "metadata": {},
   "outputs": [
    {
     "data": {
      "text/plain": [
       "True"
      ]
     },
     "execution_count": 5,
     "metadata": {},
     "output_type": "execute_result"
    }
   ],
   "source": [
    "jsonData['success']"
   ]
  },
  {
   "cell_type": "code",
   "execution_count": 7,
   "id": "f99b1143",
   "metadata": {},
   "outputs": [
    {
     "name": "stdout",
     "output_type": "stream",
     "text": [
      "<article id=\"post-365365\" class=\"post-365365 type-post status-publish format-standard has-post-thumbnail hentry category-uncategorized tag-15071 tag--qr-code\">\n",
      "\t\n",
      "\t\t<a class=\"post-thumbnail nljf\" href=\"https://buzzorange.com/techorange/2021/05/19/audrey-tang-qr-code/\" aria-hidden=\"true\" onclick=\"ga('send', 'event', 'TO Home Posts', 'Click', '【5 秒 3 步驟】唐鳳親自教學！簡訊實聯 QRCode 上路，姓名、電話都免輸入快速通關', {'nonInteraction': 1});\" data-src=\"https://buzzorange.com/techorange/wp-content/uploads/sites/2/2021/05/Eze5w_2VkAs71ja.webp?jpg\">&nbsp;</a>\n",
      "\n",
      "\t\t\n",
      "\t<header class=\"entry-header\">\n",
      "\t\t\n",
      "\t\t<span class=\"posted-on\"><span class=\"screen-reader-text\">Posted on </span><time class=\"entry-date published\" datetime=\"2021-05-19T10:30:51+08:00\">2021/05/19</time><time class=\"updated\" datetime=\"2021-05-20T12:48:21+08:00\">2021/05/20</time></span><h4 class=\"entry-title\"><a href=\"https://buzzorange.com/techorange/2021/05/19/audrey-tang-qr-code/\" onclick=\"ga('send', 'event', 'TO Home Posts', 'Click', '【5 秒 3 步驟】唐鳳親自教學！簡訊實聯 QRCode 上路，姓名、電話都免輸入快速通關', {'nonInteraction': 1});\" rel=\"bookmark\">【5 秒 3 步驟】唐鳳親自教學！簡訊實聯 QRCode 上路，姓名、電話都免輸入快速通關</a></h4>\t</header><!-- .entry-header -->\n",
      "\n",
      "\t\n",
      "\t<footer class=\"entry-footer\">\n",
      "\t\t<span class=\"posted-on\"><span class=\"screen-reader-text\">Posted on </span><time class=\"entry-date published\" datetime=\"2021-05-19T10:30:51+08:00\">2021/05/19</time><time class=\"updated\" datetime=\"2021-05-20T12:48:21+08:00\">2021/05/20</time></span>\t\t<span class=\"shareCount\">1.0 K 分享</span>\n",
      "\t</footer><!-- .entry-footer -->\n",
      "</article><!-- #post-## -->\n",
      "<article id=\"post-365238\" class=\"post-365238 type-post status-publish format-standard has-post-thumbnail hentry category-uncategorized tag-brain tag-fmri tag-future\">\n",
      "\t\n",
      "\t\t<a class=\"post-thumbnail nljf\" href=\"https://buzzorange.com/techorange/2021/05/18/brain-future-cognitive-neuroscientist/\" aria-hidden=\"true\" onclick=\"ga('send', 'event', 'TO Home Posts', 'Click', '大腦會預測未來！讓受試者重複觀看 90 秒的影片，科學家發現前額葉的秘密', {'nonInteraction': 1});\" data-src=\"https://buzzorange.com/techorange/wp-content/uploads/sites/2/2021/05/pexels-david-cassolato-818563.webp?jpg\">&nbsp;</a>\n",
      "\n",
      "\t\t\n",
      "\t<header class=\"entry-header\">\n",
      "\t\t\n",
      "\t\t<span class=\"posted-on\"><span class=\"screen-reader-text\">Posted on </span><time class=\"entry-date published updated\" datetime=\"2021-05-18T18:04:50+08:00\">2021/05/18</time></span><h4 class=\"entry-title\"><a href=\"https://buzzorange.com/techorange/2021/05/18/brain-future-cognitive-neuroscientist/\" onclick=\"ga('send', 'event', 'TO Home Posts', 'Click', '大腦會預測未來！讓受試者重複觀看 90 秒的影片，科學家發現前額葉的秘密', {'nonInteraction': 1});\" rel=\"bookmark\">大腦會預測未來！讓受試者重複觀看 90 秒的影片，科學家發現前額葉的秘密</a></h4>\t</header><!-- .entry-header -->\n",
      "\n",
      "\t\n",
      "\t<footer class=\"entry-footer\">\n",
      "\t\t<span class=\"posted-on\"><span class=\"screen-reader-text\">Posted on </span><time class=\"entry-date published updated\" datetime=\"2021-05-18T18:04:50+08:00\">2021/05/18</time></span>\t\t<span class=\"shareCount\">112 分享</span>\n",
      "\t</footer><!-- .entry-footer -->\n",
      "</article><!-- #post-## -->\n",
      "<article id=\"post-365316\" class=\"post-365316 type-post status-publish format-standard has-post-thumbnail hentry category-uncategorized tag-gather tag-31697\">\n",
      "\t\n",
      "\t\t<a class=\"post-thumbnail nljf\" href=\"https://buzzorange.com/techorange/2021/05/18/gather/\" aria-hidden=\"true\" onclick=\"ga('send', 'event', 'TO Home Posts', 'Click', '在家工作一點也不寂寞，創建 Gather 虛擬辦公室和同事線上快樂群聚', {'nonInteraction': 1});\" data-src=\"https://buzzorange.com/techorange/wp-content/uploads/sites/2/2021/05/擷取2.webp?png\">&nbsp;</a>\n",
      "\n",
      "\t\t\n",
      "\t<header class=\"entry-header\">\n",
      "\t\t\n",
      "\t\t<span class=\"posted-on\"><span class=\"screen-reader-text\">Posted on </span><time class=\"entry-date published\" datetime=\"2021-05-18T17:33:09+08:00\">2021/05/18</time><time class=\"updated\" datetime=\"2021-05-18T18:44:10+08:00\">2021/05/18</time></span><h4 class=\"entry-title\"><a href=\"https://buzzorange.com/techorange/2021/05/18/gather/\" onclick=\"ga('send', 'event', 'TO Home Posts', 'Click', '在家工作一點也不寂寞，創建 Gather 虛擬辦公室和同事線上快樂群聚', {'nonInteraction': 1});\" rel=\"bookmark\">在家工作一點也不寂寞，創建 Gather 虛擬辦公室和同事線上快樂群聚</a></h4>\t</header><!-- .entry-header -->\n",
      "\n",
      "\t\n",
      "\t<footer class=\"entry-footer\">\n",
      "\t\t<span class=\"posted-on\"><span class=\"screen-reader-text\">Posted on </span><time class=\"entry-date published\" datetime=\"2021-05-18T17:33:09+08:00\">2021/05/18</time><time class=\"updated\" datetime=\"2021-05-18T18:44:10+08:00\">2021/05/18</time></span>\t\t<span class=\"shareCount\">538 分享</span>\n",
      "\t</footer><!-- .entry-footer -->\n",
      "</article><!-- #post-## -->\n",
      "<article id=\"post-365303\" class=\"post-365303 type-post status-publish format-standard has-post-thumbnail hentry category-uncategorized tag-kktv tag-netflix tag-35070\">\n",
      "\t\n",
      "\t\t<a class=\"post-thumbnail nljf\" href=\"https://buzzorange.com/techorange/2021/05/18/kktv-myvideo-stayhome/\" aria-hidden=\"true\" onclick=\"ga('send', 'event', 'TO Home Posts', 'Click', '【全民耍廢救台灣】影音串流平台紛推體驗序號，免費爽追劇 30 天', {'nonInteraction': 1});\" data-src=\"https://buzzorange.com/techorange/wp-content/uploads/sites/2/2021/05/myvedio1.webp?jpg\">&nbsp;</a>\n",
      "\n",
      "\t\t\n",
      "\t<header class=\"entry-header\">\n",
      "\t\t\n",
      "\t\t<span class=\"posted-on\"><span class=\"screen-reader-text\">Posted on </span><time class=\"entry-date published\" datetime=\"2021-05-18T17:32:42+08:00\">2021/05/18</time><time class=\"updated\" datetime=\"2021-05-20T17:52:17+08:00\">2021/05/20</time></span><h4 class=\"entry-title\"><a href=\"https://buzzorange.com/techorange/2021/05/18/kktv-myvideo-stayhome/\" onclick=\"ga('send', 'event', 'TO Home Posts', 'Click', '【全民耍廢救台灣】影音串流平台紛推體驗序號，免費爽追劇 30 天', {'nonInteraction': 1});\" rel=\"bookmark\">【全民耍廢救台灣】影音串流平台紛推體驗序號，免費爽追劇 30 天</a></h4>\t</header><!-- .entry-header -->\n",
      "\n",
      "\t\n",
      "\t<footer class=\"entry-footer\">\n",
      "\t\t<span class=\"posted-on\"><span class=\"screen-reader-text\">Posted on </span><time class=\"entry-date published\" datetime=\"2021-05-18T17:32:42+08:00\">2021/05/18</time><time class=\"updated\" datetime=\"2021-05-20T17:52:17+08:00\">2021/05/20</time></span>\t\t<span class=\"shareCount\">61 分享</span>\n",
      "\t</footer><!-- .entry-footer -->\n",
      "</article><!-- #post-## -->\n",
      "<article id=\"post-365330\" class=\"post-365330 type-post status-publish format-standard has-post-thumbnail status-sticky hentry category-uncategorized category-noarticleads tag-diastudio tag-29702 tag-29703 tag-17925\">\n",
      "\t\n",
      "\t\t<a class=\"post-thumbnail nljf\" href=\"https://buzzorange.com/techorange/2021/05/18/delta-electronics-diastudio/\" aria-hidden=\"true\" onclick=\"ga('send', 'event', 'TO Home Posts', 'Click', '口罩之亂的科技反思！台達 DIAStudio 助製造業者打造「智慧機台」，迎戰變幻莫測的市場', {'nonInteraction': 1});\" data-src=\"https://buzzorange.com/techorange/wp-content/uploads/sites/2/2021/05/TechOrange-04_image-1-1.webp?jpg\">&nbsp;</a>\n",
      "\n",
      "\t\t\n",
      "\t<header class=\"entry-header\">\n",
      "\t\t\n",
      "\t\t<span class=\"posted-on\"><span class=\"screen-reader-text\">Posted on </span><time class=\"entry-date published\" datetime=\"2021-05-18T17:01:57+08:00\">2021/05/18</time><time class=\"updated\" datetime=\"2021-05-22T18:05:19+08:00\">2021/05/22</time></span><h4 class=\"entry-title\"><a href=\"https://buzzorange.com/techorange/2021/05/18/delta-electronics-diastudio/\" onclick=\"ga('send', 'event', 'TO Home Posts', 'Click', '口罩之亂的科技反思！台達 DIAStudio 助製造業者打造「智慧機台」，迎戰變幻莫測的市場', {'nonInteraction': 1});\" rel=\"bookmark\">口罩之亂的科技反思！台達 DIAStudio 助製造業者打造「智慧機台」，迎戰變幻莫測的市場</a></h4>\t</header><!-- .entry-header -->\n",
      "\n",
      "\t\n",
      "\t<footer class=\"entry-footer\">\n",
      "\t\t<span class=\"posted-on\"><span class=\"screen-reader-text\">Posted on </span><time class=\"entry-date published\" datetime=\"2021-05-18T17:01:57+08:00\">2021/05/18</time><time class=\"updated\" datetime=\"2021-05-22T18:05:19+08:00\">2021/05/22</time></span>\t\t<span class=\"shareCount\">907 分享</span>\n",
      "\t</footer><!-- .entry-footer -->\n",
      "</article><!-- #post-## -->\n",
      "<article id=\"post-365326\" class=\"post-365326 type-post status-publish format-standard has-post-thumbnail hentry category-uncategorized tag-14070 tag-17204 tag-14938\">\n",
      "\t\n",
      "\t\t<a class=\"post-thumbnail nljf\" href=\"https://buzzorange.com/techorange/2021/05/18/chip-shortage-boost-hardware-innovation/\" aria-hidden=\"true\" onclick=\"ga('send', 'event', 'TO Home Posts', 'Click', '2021 年晶片趨勢：晶片短缺催生硬體整合，加速「軟體取代硬體」進程', {'nonInteraction': 1});\" data-src=\"https://buzzorange.com/techorange/wp-content/uploads/sites/2/2021/05/chip-4564394_1280.webp?jpg\">&nbsp;</a>\n",
      "\n",
      "\t\t\n",
      "\t<header class=\"entry-header\">\n",
      "\t\t\n",
      "\t\t<span class=\"posted-on\"><span class=\"screen-reader-text\">Posted on </span><time class=\"entry-date published updated\" datetime=\"2021-05-18T16:59:16+08:00\">2021/05/18</time></span><h4 class=\"entry-title\"><a href=\"https://buzzorange.com/techorange/2021/05/18/chip-shortage-boost-hardware-innovation/\" onclick=\"ga('send', 'event', 'TO Home Posts', 'Click', '2021 年晶片趨勢：晶片短缺催生硬體整合，加速「軟體取代硬體」進程', {'nonInteraction': 1});\" rel=\"bookmark\">2021 年晶片趨勢：晶片短缺催生硬體整合，加速「軟體取代硬體」進程</a></h4>\t</header><!-- .entry-header -->\n",
      "\n",
      "\t\n",
      "\t<footer class=\"entry-footer\">\n",
      "\t\t<span class=\"posted-on\"><span class=\"screen-reader-text\">Posted on </span><time class=\"entry-date published updated\" datetime=\"2021-05-18T16:59:16+08:00\">2021/05/18</time></span>\t\t<span class=\"shareCount\">124 分享</span>\n",
      "\t</footer><!-- .entry-footer -->\n",
      "</article><!-- #post-## -->\n",
      "<article id=\"post-365287\" class=\"post-365287 type-post status-publish format-standard has-post-thumbnail hentry category-uncategorized tag-40001 tag-40000 tag-38097\">\n",
      "\t\n",
      "\t\t<a class=\"post-thumbnail nljf\" href=\"https://buzzorange.com/techorange/2021/05/18/titansoft-company-salary-transparency/\" aria-hidden=\"true\" onclick=\"ga('send', 'event', 'TO Home Posts', 'Click', '【投稿】員工可以大方討論薪資！打破薪資保密制，鈦坦科技公開管理心法', {'nonInteraction': 1});\" data-src=\"https://buzzorange.com/techorange/wp-content/uploads/sites/2/2021/05/shutterstock_1032637258-1-1-1.webp?jpg\">&nbsp;</a>\n",
      "\n",
      "\t\t\n",
      "\t<header class=\"entry-header\">\n",
      "\t\t\n",
      "\t\t<span class=\"posted-on\"><span class=\"screen-reader-text\">Posted on </span><time class=\"entry-date published updated\" datetime=\"2021-05-18T16:06:51+08:00\">2021/05/18</time></span><h4 class=\"entry-title\"><a href=\"https://buzzorange.com/techorange/2021/05/18/titansoft-company-salary-transparency/\" onclick=\"ga('send', 'event', 'TO Home Posts', 'Click', '【投稿】員工可以大方討論薪資！打破薪資保密制，鈦坦科技公開管理心法', {'nonInteraction': 1});\" rel=\"bookmark\">【投稿】員工可以大方討論薪資！打破薪資保密制，鈦坦科技公開管理心法</a></h4>\t</header><!-- .entry-header -->\n",
      "\n",
      "\t\n",
      "\t<footer class=\"entry-footer\">\n",
      "\t\t<span class=\"posted-on\"><span class=\"screen-reader-text\">Posted on </span><time class=\"entry-date published updated\" datetime=\"2021-05-18T16:06:51+08:00\">2021/05/18</time></span>\t\t<span class=\"shareCount\">312 分享</span>\n",
      "\t</footer><!-- .entry-footer -->\n",
      "</article><!-- #post-## -->\n",
      "<article id=\"post-365240\" class=\"post-365240 type-post status-publish format-standard has-post-thumbnail hentry category-uncategorized tag-14511 tag-16739\">\n",
      "\t\n",
      "\t\t<a class=\"post-thumbnail nljf\" href=\"https://buzzorange.com/techorange/2021/05/18/bill-gates-relationship-with-staffer/\" aria-hidden=\"true\" onclick=\"ga('send', 'event', 'TO Home Posts', 'Click', '【當上高管千萬別亂來】從比爾蓋茲外遇事件，解析領導人「私人感情」對公司的重要性', {'nonInteraction': 1});\" data-src=\"https://buzzorange.com/techorange/wp-content/uploads/sites/2/2021/05/5433526085_b099babf9a_c.webp?jpg\">&nbsp;</a>\n",
      "\n",
      "\t\t\n",
      "\t<header class=\"entry-header\">\n",
      "\t\t\n",
      "\t\t<span class=\"posted-on\"><span class=\"screen-reader-text\">Posted on </span><time class=\"entry-date published updated\" datetime=\"2021-05-18T15:40:38+08:00\">2021/05/18</time></span><h4 class=\"entry-title\"><a href=\"https://buzzorange.com/techorange/2021/05/18/bill-gates-relationship-with-staffer/\" onclick=\"ga('send', 'event', 'TO Home Posts', 'Click', '【當上高管千萬別亂來】從比爾蓋茲外遇事件，解析領導人「私人感情」對公司的重要性', {'nonInteraction': 1});\" rel=\"bookmark\">【當上高管千萬別亂來】從比爾蓋茲外遇事件，解析領導人「私人感情」對公司的重要性</a></h4>\t</header><!-- .entry-header -->\n",
      "\n",
      "\t\n",
      "\t<footer class=\"entry-footer\">\n",
      "\t\t<span class=\"posted-on\"><span class=\"screen-reader-text\">Posted on </span><time class=\"entry-date published updated\" datetime=\"2021-05-18T15:40:38+08:00\">2021/05/18</time></span>\t\t<span class=\"shareCount\">16 分享</span>\n",
      "\t</footer><!-- .entry-footer -->\n",
      "</article><!-- #post-## -->\n",
      "\n"
     ]
    }
   ],
   "source": [
    "print(jsonData['data'])"
   ]
  },
  {
   "cell_type": "code",
   "execution_count": null,
   "id": "772ddfc7",
   "metadata": {},
   "outputs": [],
   "source": []
  }
 ],
 "metadata": {
  "kernelspec": {
   "display_name": "Python 3",
   "language": "python",
   "name": "python3"
  },
  "language_info": {
   "codemirror_mode": {
    "name": "ipython",
    "version": 3
   },
   "file_extension": ".py",
   "mimetype": "text/x-python",
   "name": "python",
   "nbconvert_exporter": "python",
   "pygments_lexer": "ipython3",
   "version": "3.7.0"
  }
 },
 "nbformat": 4,
 "nbformat_minor": 5
}
