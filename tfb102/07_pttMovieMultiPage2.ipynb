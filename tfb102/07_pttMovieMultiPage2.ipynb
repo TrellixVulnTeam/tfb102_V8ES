{
 "cells": [
  {
   "cell_type": "code",
   "execution_count": 16,
   "id": "68542426",
   "metadata": {
    "scrolled": true
   },
   "outputs": [
    {
     "name": "stdout",
     "output_type": "stream",
     "text": [
      "<div class=\"title\">\n",
      "\t\t\t\n",
      "\t\t\t\t(本文已被刪除) [fangfangki]\n",
      "\t\t\t\n",
      "\t\t\t</div>\n",
      "========\n",
      "[新聞] 艾德華諾頓加入《鋒迴路轉2》！網笑翻！未看先猜：兇手肯定\n",
      "https://www.ptt.cc/bbs/movie/M.1620790595.A.321.html\n",
      "========\n",
      "[問片] 女主角出去打砲後被男友遺棄\n",
      "https://www.ptt.cc/bbs/movie/M.1620790595.A.321.html\n",
      "========\n",
      "[請益] 死亡漩渦：奪魂鋸新遊戲跟奪魂鋸的關係??\n",
      "https://www.ptt.cc/bbs/movie/M.1620790595.A.321.html\n",
      "========\n"
     ]
    },
    {
     "ename": "FileNotFoundError",
     "evalue": "[Errno 2] No such file or directory: './pttMovie/[情報] 《第6感追緝令》4K 修復版台灣 6/11 重映決定！.txt'",
     "output_type": "error",
     "traceback": [
      "\u001b[0;31m---------------------------------------------------------------------------\u001b[0m",
      "\u001b[0;31mFileNotFoundError\u001b[0m                         Traceback (most recent call last)",
      "\u001b[0;32m<ipython-input-16-9f92eb832144>\u001b[0m in \u001b[0;36m<module>\u001b[0;34m\u001b[0m\n\u001b[1;32m     34\u001b[0m             \u001b[0marticleSoup\u001b[0m \u001b[0;34m=\u001b[0m \u001b[0mBeautifulSoup\u001b[0m\u001b[0;34m(\u001b[0m\u001b[0marticleRes\u001b[0m\u001b[0;34m.\u001b[0m\u001b[0mtext\u001b[0m\u001b[0;34m,\u001b[0m \u001b[0;34m'html.parser'\u001b[0m\u001b[0;34m)\u001b[0m\u001b[0;34m\u001b[0m\u001b[0m\n\u001b[1;32m     35\u001b[0m             \u001b[0marticleContent\u001b[0m \u001b[0;34m=\u001b[0m \u001b[0marticleSoup\u001b[0m\u001b[0;34m.\u001b[0m\u001b[0mselect\u001b[0m\u001b[0;34m(\u001b[0m\u001b[0;34m'div[id=\"main-content\"]'\u001b[0m\u001b[0;34m)\u001b[0m\u001b[0;34m[\u001b[0m\u001b[0;36m0\u001b[0m\u001b[0;34m]\u001b[0m\u001b[0;34m.\u001b[0m\u001b[0mtext\u001b[0m\u001b[0;34m.\u001b[0m\u001b[0msplit\u001b[0m\u001b[0;34m(\u001b[0m\u001b[0;34m'※ 發信站'\u001b[0m\u001b[0;34m)\u001b[0m\u001b[0;34m[\u001b[0m\u001b[0;36m0\u001b[0m\u001b[0;34m]\u001b[0m\u001b[0;34m\u001b[0m\u001b[0m\n\u001b[0;32m---> 36\u001b[0;31m             \u001b[0;32mwith\u001b[0m \u001b[0mopen\u001b[0m\u001b[0;34m(\u001b[0m\u001b[0;34m'./pttMovie/{}.txt'\u001b[0m\u001b[0;34m.\u001b[0m\u001b[0mformat\u001b[0m\u001b[0;34m(\u001b[0m\u001b[0mtitle\u001b[0m\u001b[0;34m)\u001b[0m\u001b[0;34m,\u001b[0m \u001b[0;34m'w'\u001b[0m\u001b[0;34m,\u001b[0m \u001b[0mencoding\u001b[0m\u001b[0;34m=\u001b[0m\u001b[0;34m'utf-8'\u001b[0m\u001b[0;34m)\u001b[0m \u001b[0;32mas\u001b[0m \u001b[0mf\u001b[0m\u001b[0;34m:\u001b[0m\u001b[0;34m\u001b[0m\u001b[0m\n\u001b[0m\u001b[1;32m     37\u001b[0m                 \u001b[0mf\u001b[0m\u001b[0;34m.\u001b[0m\u001b[0mwrite\u001b[0m\u001b[0;34m(\u001b[0m\u001b[0mtitle\u001b[0m\u001b[0;34m)\u001b[0m\u001b[0;34m\u001b[0m\u001b[0m\n\u001b[1;32m     38\u001b[0m             \u001b[0mprint\u001b[0m\u001b[0;34m(\u001b[0m\u001b[0mtitle\u001b[0m\u001b[0;34m)\u001b[0m\u001b[0;34m\u001b[0m\u001b[0m\n",
      "\u001b[0;31mFileNotFoundError\u001b[0m: [Errno 2] No such file or directory: './pttMovie/[情報] 《第6感追緝令》4K 修復版台灣 6/11 重映決定！.txt'"
     ]
    }
   ],
   "source": [
    "import requests\n",
    "from bs4 import BeautifulSoup\n",
    "import time\n",
    "import random\n",
    "import os\n",
    "\n",
    "os.mkdir('./pttMovie')\n",
    "\n",
    "url = 'https://www.ptt.cc/bbs/movie/index.html'\n",
    "userAgent = 'Mozilla/5.0 (Macintosh; Intel Mac OS X 10_15_7) AppleWebKit/537.36 (KHTML, like Gecko) Chrome/90.0.4430.93 Safari/537.36'\n",
    "headers = {\n",
    "    'User-Agent': userAgent\n",
    "}\n",
    "\n",
    "for i in range(0, 5):\n",
    "    res = None\n",
    "    while True:\n",
    "        try:\n",
    "            res = requests.get(url, headers=headers)\n",
    "            break\n",
    "        except:\n",
    "            continue\n",
    "        \n",
    "    soup = BeautifulSoup(res.text, 'html.parser') # lxml -> pip install lxml\n",
    "\n",
    "    titleTagList = soup.select('div.title')\n",
    "    for titleTag in titleTagList:\n",
    "        try:\n",
    "            title = titleTag.select('a')[0].text\n",
    "            articleUrl = 'https://www.ptt.cc' + titleTag.select('a')[0]['href']\n",
    "            # request article url\n",
    "            articleUrl = 'https://www.ptt.cc/bbs/movie/M.1620790595.A.321.html'\n",
    "            articleRes = requests.get(articleUrl, headers=headers)\n",
    "            articleSoup = BeautifulSoup(articleRes.text, 'html.parser')\n",
    "            articleContent = articleSoup.select('div[id=\"main-content\"]')[0].text.split('※ 發信站')[0]\n",
    "            with open('./pttMovie/{}.txt'.format(title), 'w', encoding='utf-8') as f:\n",
    "                f.write(title)\n",
    "            print(title)\n",
    "            print(articleUrl)\n",
    "        except IndexError as e:\n",
    "    #         print(e)\n",
    "            print(titleTag)\n",
    "        print('========')\n",
    "\n",
    "    newUrl = 'https://www.ptt.cc' + soup.select('a[class=\"btn wide\"]')[1]['href']\n",
    "    # print(newUrl)\n",
    "    url = newUrl\n",
    "    \n",
    "#     time.sleep(random.randint(1, 10))"
   ]
  },
  {
   "cell_type": "code",
   "execution_count": 5,
   "id": "3d0a9125",
   "metadata": {},
   "outputs": [
    {
     "name": "stdout",
     "output_type": "stream",
     "text": [
      "https://www.ptt.cc/bbs/movie/index9505.html\n"
     ]
    }
   ],
   "source": [
    "newUrl = 'https://www.ptt.cc' + soup.select('a[class=\"btn wide\"]')[1]['href']\n",
    "print(newUrl)"
   ]
  },
  {
   "cell_type": "code",
   "execution_count": 15,
   "id": "7b8099b0",
   "metadata": {
    "scrolled": false
   },
   "outputs": [
    {
     "name": "stdout",
     "output_type": "stream",
     "text": [
      "作者iamtony (蔡桶泥)看板movie標題[討論] 寄生上流的味道???到底是什麼味道???時間Wed May 12 11:36:23 2021\n",
      "請問有人知道寄生上流的氣味味道到底是什麼嗎?\n",
      "\n",
      "看完只覺得感覺電影角色要不是鼻子子嗅覺有點問題?\n",
      "\n",
      "就是身上會自然散出各種味道?\n",
      "\n",
      "\n",
      "有很多人說  就是電影裡說的地下室發霉的味道\n",
      "\n",
      "用這個說法\n",
      "\n",
      "只能解釋  有錢人家小兒子像小狗一樣聞完管家與司機的屁股\n",
      "說管家司機家教四人的味道\n",
      "都一樣\n",
      "\n",
      "因為四人都長期住地下屋\n",
      "\n",
      "衣服與身上都有地下屋的發霉味\n",
      "\n",
      "這個解釋雖然看似合理\n",
      "\n",
      "但無法解釋為什麼只有小兒子發現?有錢爸媽跟女兒都沒發現?\n",
      "難道是只有小兒子的鼻子嗅覺比較靈敏?\n",
      "\n",
      "也無法解釋為什麼後來司機開車載著富太太\n",
      "\n",
      "富太太卻突然摀鼻開窗戶\n",
      "\n",
      "那一幕我看的時候比較像是司機突然放臭屁  比較合理\n",
      "\n",
      "但大家又都說是貧窮的味道\n",
      "\n",
      "難道吃太多重口味的食物而放臭屁  就跟貧窮有關係嗎?\n",
      "\n",
      "有錢人如果吃太多重口味食物也會放臭屁啊\n",
      "\n",
      "所以根本說不通\n",
      "\n",
      "\n",
      "再說到結尾\n",
      "\n",
      "地下室那個禿頭男發飆拿刀要殺人\n",
      "\n",
      "結果反被胖管家用烤肉叉叉死在地上\n",
      "\n",
      "有錢爸後來要翻開禿頭男的屍體拿鑰匙\n",
      "\n",
      "卻突然也摀鼻\n",
      "\n",
      "感覺應該也是禿頭男因為被烤肉叉叉死在地上\n",
      "\n",
      "大小便失禁的味道\n",
      "\n",
      "因為人死了  肛門括約肌就沒辦法用大腦控制了  排泄物會自己排出來\n",
      "\n",
      "所以那一幕有錢霸應該是聞到死禿頭的大便味而摀鼻\n",
      "\n",
      "結果司機搞錯了\n",
      "\n",
      "以為有錢爸是在嫌棄貧窮的味道\n",
      "\n",
      "結果司機一怒之下也殺了有錢爸\n",
      "\n",
      "\n",
      "所以說\n",
      "\n",
      "這部電影根本就是因為放臭屁跟亂大便所引發的慘劇\n",
      "\n",
      "司機開車放臭屁  有錢媽就坐後面當然會摀鼻開窗\n",
      "\n",
      "死禿頭男死了肛門失禁  有錢爸翻開他屍體要拿他屁股底下的鑰匙當然也摀鼻\n",
      "\n",
      "\n",
      "平窮的味道  應該是因為住破屋的發霉還有因為勞動而流汗的味道\n",
      "\n",
      "它們一家人有萍窮的味道  也是合理的\n",
      "\n",
      "但根劇情轉折點有個屁關係?\n",
      "\n",
      "\n",
      "有沒有人可以解釋一下?\n",
      "\n",
      "寄生上流的味道到底是什麼味道?\n",
      "\n",
      "洩謝\n",
      "\n",
      "--\n",
      "\n"
     ]
    }
   ],
   "source": [
    "articleUrl = 'https://www.ptt.cc/bbs/movie/M.1620790595.A.321.html'\n",
    "articleRes = requests.get(articleUrl, headers=headers)\n",
    "articleSoup = BeautifulSoup(articleRes.text, 'html.parser')\n",
    "articleContent = articleSoup.select('div[id=\"main-content\"]')[0].text.split('※ 發信站')[0]\n",
    "print(articleContent)"
   ]
  },
  {
   "cell_type": "code",
   "execution_count": null,
   "id": "4537fe10",
   "metadata": {},
   "outputs": [],
   "source": []
  }
 ],
 "metadata": {
  "kernelspec": {
   "display_name": "Python 3",
   "language": "python",
   "name": "python3"
  },
  "language_info": {
   "codemirror_mode": {
    "name": "ipython",
    "version": 3
   },
   "file_extension": ".py",
   "mimetype": "text/x-python",
   "name": "python",
   "nbconvert_exporter": "python",
   "pygments_lexer": "ipython3",
   "version": "3.7.0"
  }
 },
 "nbformat": 4,
 "nbformat_minor": 5
}
