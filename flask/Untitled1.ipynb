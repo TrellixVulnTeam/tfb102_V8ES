{
 "cells": [
  {
   "cell_type": "code",
   "execution_count": 2,
   "id": "242f5753",
   "metadata": {},
   "outputs": [
    {
     "name": "stdout",
     "output_type": "stream",
     "text": [
      "{'Player_1': ['Spade_7', 'Diamond_7', 'Spade_6', 'Club_4', 'Spade_2', 'Heart_1', 'Heart_7', 'Club_10', 'Club_5', 'Heart_9', 'Heart_6'], 'Player_2': ['Club_6', 'Heart_13', 'Spade_5', 'Heart_2', 'Club_9', 'Spade_8', 'Diamond_13', 'Spade_3', 'Spade_10', 'Diamond_9', 'Diamond_6'], 'Player_3': ['Diamond_8', 'Club_1', 'Club_3', 'Diamond_2', 'Club_11', 'Heart_5', 'Club_2', 'Diamond_1', 'Spade_4', 'Spade_13'], 'Player_4': ['Spade_9', 'Heart_4', 'Diamond_10', 'Heart_12', 'Spade_12', 'Heart_8', 'Spade_1', 'Heart_3', 'Spade_11', 'Club_7'], 'Player_5': ['Heart_10', 'Club_8', 'Diamond_4', 'Diamond_5', 'Diamond_12', 'Diamond_11', 'Club_13', 'Heart_11', 'Diamond_3', 'Club_12']}\n"
     ]
    }
   ],
   "source": [
    "import random\n",
    "\n",
    "def poker(player):\n",
    "    PLAYER = player\n",
    "    player_cards = {'Player_%s'%(i+1): list() for i in range(0,PLAYER)}\n",
    "\n",
    "    # Generate 52 poker cards\n",
    "    style_list = ['Spade', 'Heart', 'Diamond', 'Club']\n",
    "    poker_list = ['%s_%s'%(style_list[int(i%4)], int(i/4) + 1) for i in range(0, 52)]\n",
    "\n",
    "    # Shuffling\n",
    "    random_poker_list = []\n",
    "    while len(poker_list) > 0:\n",
    "        choice = random.randint(0, len(poker_list)-1)\n",
    "        random_poker_list.append(poker_list[choice])\n",
    "        del poker_list[choice]\n",
    "\n",
    "    # Distributing\n",
    "    for n, c in enumerate(random_poker_list):\n",
    "        player_cards['Player_%s' % (n % PLAYER + 1)].append(c)\n",
    "\n",
    "    return player_cards\n",
    "\n",
    "if __name__ == '__main__':\n",
    "    player_cards = poker(5)\n",
    "\n",
    "#     # Order and print\n",
    "#     for i in player_cards:\n",
    "#         player_cards[i].sort(key=lambda x: x.split('_')[0])\n",
    "#         print(i)\n",
    "#         print(player_cards[i])\n",
    "#         print()\n",
    "    print(player_cards)"
   ]
  },
  {
   "cell_type": "code",
   "execution_count": null,
   "id": "661fc7fe",
   "metadata": {},
   "outputs": [],
   "source": []
  }
 ],
 "metadata": {
  "kernelspec": {
   "display_name": "Python 3",
   "language": "python",
   "name": "python3"
  },
  "language_info": {
   "codemirror_mode": {
    "name": "ipython",
    "version": 3
   },
   "file_extension": ".py",
   "mimetype": "text/x-python",
   "name": "python",
   "nbconvert_exporter": "python",
   "pygments_lexer": "ipython3",
   "version": "3.7.0"
  }
 },
 "nbformat": 4,
 "nbformat_minor": 5
}
